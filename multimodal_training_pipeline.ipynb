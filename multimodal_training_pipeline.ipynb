{
 "cells": [
  {
   "cell_type": "code",
   "execution_count": 1,
   "metadata": {},
   "outputs": [
    {
     "name": "stderr",
     "output_type": "stream",
     "text": [
      "/opt/homebrew/Caskroom/miniforge/base/envs/playground/lib/python3.11/site-packages/tqdm/auto.py:21: TqdmWarning: IProgress not found. Please update jupyter and ipywidgets. See https://ipywidgets.readthedocs.io/en/stable/user_install.html\n",
      "  from .autonotebook import tqdm as notebook_tqdm\n"
     ]
    }
   ],
   "source": [
    "import numpy as np \n",
    "import pandas as pd\n",
    "\n",
    "import torch\n",
    "import torch.nn as nn\n",
    "from torch.utils.data import DataLoader\n",
    "\n",
    "from transformers import AutoModelForMaskedLM, AutoTokenizer, pipeline\n",
    "\n",
    "from src.chem_models import ChembertaWrapper\n",
    "from src.tab_models import SimpleMLP\n",
    "from src.Dataset import FullAlignedTabChemDataset\n"
   ]
  },
  {
   "cell_type": "code",
   "execution_count": 2,
   "metadata": {},
   "outputs": [],
   "source": [
    "device = 'cpu'"
   ]
  },
  {
   "cell_type": "markdown",
   "metadata": {},
   "source": [
    "## Build data "
   ]
  },
  {
   "cell_type": "code",
   "execution_count": 3,
   "metadata": {},
   "outputs": [],
   "source": [
    "modalities = ['tab', 'chem']\n",
    "\n",
    "tabular_data_train = torch.randn(5, 10)  \n",
    "tabular_data_val = torch.randn(3, 10)  \n",
    "\n",
    "smiles_data_train = ['CC(=O)OCC[N+](C)(C)C',\n",
    "               'CC(C[N+](C)(C)C)OC(=O)C',\n",
    "               'O=C1CCCN1CC#CC[N+](C)(C)C',\n",
    "               'NC(=O)OCC[N+](C)(C)C',\n",
    "               'CC(C[N+](C)(C)C)OC(=O)N'\n",
    "               ]\n",
    "smiles_data_val = [\n",
    "    'COC(=O)C1=CCCN(C1)C',\n",
    "    'CON=CC1=CCCN(C1)C',\n",
    "    'CCC1C(=O)OCC1Cc1cncn1C'\n",
    "               ]\n",
    "\n",
    "target_train = np.array([0,1,1,0,0])\n",
    "target_val = np.array([0,1,0])\n",
    "\n",
    "train_ds = FullAlignedTabChemDataset(tabular_data_train, smiles_data_train, target_train,modalities)\n",
    "val_ds = FullAlignedTabChemDataset(tabular_data_val, smiles_data_val, target_val,modalities)\n",
    "\n",
    "train_dl = DataLoader(train_ds, batch_size=2, shuffle=True)\n",
    "val_dl = DataLoader(val_ds, batch_size=2, shuffle=False)"
   ]
  },
  {
   "cell_type": "markdown",
   "metadata": {},
   "source": [
    "## Build model"
   ]
  },
  {
   "cell_type": "code",
   "execution_count": 4,
   "metadata": {},
   "outputs": [
    {
     "ename": "",
     "evalue": "",
     "output_type": "error",
     "traceback": [
      "\u001b[1;31mThe Kernel crashed while executing code in the current cell or a previous cell. \n",
      "\u001b[1;31mPlease review the code in the cell(s) to identify a possible cause of the failure. \n",
      "\u001b[1;31mClick <a href='https://aka.ms/vscodeJupyterKernelCrash'>here</a> for more info. \n",
      "\u001b[1;31mView Jupyter <a href='command:jupyter.viewOutput'>log</a> for further details."
     ]
    }
   ],
   "source": [
    "tab_model_params = {\n",
    "    'input_size': 10,\n",
    "    'hidden_layers':[20,12],\n",
    "    'num_classes': 4,\n",
    "    'dropout_rates': [0.2,0.2]\n",
    "}\n",
    "\n",
    "tab_model = SimpleMLP(**tab_model_params)"
   ]
  },
  {
   "cell_type": "code",
   "execution_count": 5,
   "metadata": {},
   "outputs": [],
   "source": [
    "chemberta = AutoModelForMaskedLM.from_pretrained('DeepChem/ChemBERTa-77M-MTR')\n",
    "tokenizer = AutoTokenizer.from_pretrained('DeepChem/ChemBERTa-77M-MTR')\n",
    "chem_model = ChembertaWrapper(chemberta, tokenizer)"
   ]
  },
  {
   "cell_type": "code",
   "execution_count": null,
   "metadata": {},
   "outputs": [],
   "source": []
  }
 ],
 "metadata": {
  "kernelspec": {
   "display_name": "playground",
   "language": "python",
   "name": "python3"
  },
  "language_info": {
   "codemirror_mode": {
    "name": "ipython",
    "version": 3
   },
   "file_extension": ".py",
   "mimetype": "text/x-python",
   "name": "python",
   "nbconvert_exporter": "python",
   "pygments_lexer": "ipython3",
   "version": "3.11.9"
  }
 },
 "nbformat": 4,
 "nbformat_minor": 2
}
